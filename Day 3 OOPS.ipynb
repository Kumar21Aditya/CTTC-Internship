{
 "cells": [
  {
   "cell_type": "code",
   "execution_count": 1,
   "id": "a7adf6b8",
   "metadata": {},
   "outputs": [],
   "source": [
    "class Parrot:\n",
    "    name= \"Sua\"\n",
    "    age=2\n",
    "    color=\"green\"\n",
    "    weight=2.5"
   ]
  },
  {
   "cell_type": "code",
   "execution_count": 2,
   "id": "2d2d84fd",
   "metadata": {},
   "outputs": [
    {
     "data": {
      "text/plain": [
       "'Sua'"
      ]
     },
     "execution_count": 2,
     "metadata": {},
     "output_type": "execute_result"
    }
   ],
   "source": [
    "p1=Parrot()\n",
    "p1.name"
   ]
  },
  {
   "cell_type": "code",
   "execution_count": 3,
   "id": "a3c71458",
   "metadata": {},
   "outputs": [
    {
     "data": {
      "text/plain": [
       "'green'"
      ]
     },
     "execution_count": 3,
     "metadata": {},
     "output_type": "execute_result"
    }
   ],
   "source": [
    "p1.color"
   ]
  },
  {
   "cell_type": "code",
   "execution_count": 4,
   "id": "85f074f1",
   "metadata": {},
   "outputs": [
    {
     "data": {
      "text/plain": [
       "2.5"
      ]
     },
     "execution_count": 4,
     "metadata": {},
     "output_type": "execute_result"
    }
   ],
   "source": [
    "p1.weight"
   ]
  },
  {
   "cell_type": "code",
   "execution_count": 7,
   "id": "2135f241",
   "metadata": {},
   "outputs": [
    {
     "data": {
      "text/plain": [
       "'Sua'"
      ]
     },
     "execution_count": 7,
     "metadata": {},
     "output_type": "execute_result"
    }
   ],
   "source": [
    "p0=Parrot()\n",
    "p0.name"
   ]
  },
  {
   "cell_type": "code",
   "execution_count": 26,
   "id": "2f5a1695",
   "metadata": {},
   "outputs": [],
   "source": [
    "class Parrot:\n",
    "    def __init__(self,name,age,color,weight):\n",
    "        self.name=name\n",
    "        self.age=age\n",
    "        self.color=color\n",
    "        self.weight=weight\n",
    "    def grow(self,ag):\n",
    "        self.age+=ag\n",
    "    def recolor(self,rc):\n",
    "        self.color=rc"
   ]
  },
  {
   "cell_type": "code",
   "execution_count": 27,
   "id": "d8e6e533",
   "metadata": {},
   "outputs": [],
   "source": [
    "p2=Parrot(\"raj\",3,\"green\",2)"
   ]
  },
  {
   "cell_type": "code",
   "execution_count": 28,
   "id": "1fbc0d1b",
   "metadata": {},
   "outputs": [
    {
     "data": {
      "text/plain": [
       "'raj'"
      ]
     },
     "execution_count": 28,
     "metadata": {},
     "output_type": "execute_result"
    }
   ],
   "source": [
    "p2.name"
   ]
  },
  {
   "cell_type": "code",
   "execution_count": 30,
   "id": "e8607d47",
   "metadata": {},
   "outputs": [],
   "source": [
    "p2.recolor(\"red\")"
   ]
  },
  {
   "cell_type": "code",
   "execution_count": 31,
   "id": "31d054b7",
   "metadata": {},
   "outputs": [
    {
     "data": {
      "text/plain": [
       "'red'"
      ]
     },
     "execution_count": 31,
     "metadata": {},
     "output_type": "execute_result"
    }
   ],
   "source": [
    "p2.color"
   ]
  },
  {
   "cell_type": "markdown",
   "id": "d0d129fd",
   "metadata": {},
   "source": [
    "# Banks class method regular,login,withdraw,deposit,logout"
   ]
  },
  {
   "cell_type": "code",
   "execution_count": 36,
   "id": "79895871",
   "metadata": {},
   "outputs": [],
   "source": [
    "class Bank:\n",
    "    \n",
    "    def __init__(self,fullname,username,password,initial_deposit):\n",
    "        self.fullname=fullname\n",
    "        self.username=username\n",
    "        self.password=password\n",
    "        self.balance=initial_deposit\n",
    "        \n",
    "    def login(self):\n",
    "        username= input(\"Enter your Username: \")\n",
    "        if username==self.username:\n",
    "            password =input(\"Enter your password: \")\n",
    "            if password ==self.password:\n",
    "                is_login= True\n",
    "                print(\"Login successfully👩‍🦰 \")\n",
    "            else:\n",
    "                print(\"Wrong password\")\n",
    "        else:\n",
    "            print(\"Invalid username\")\n",
    "            \n",
    "    def deposit(self,amount):\n",
    "        if self.is_login ==True:\n",
    "            k= self.balance\n",
    "            self.balance= self.balance+amount\n",
    "            print(f\"Total amount : {k}+(amount)={self.balance}\")\n",
    "        else:\n",
    "            self.login()\n",
    "            \n",
    "    def logout(Self):\n",
    "        self.is_login=False\n",
    "        print(\"Logout Succesfully\")"
   ]
  },
  {
   "cell_type": "code",
   "execution_count": 27,
   "id": "ca8cd4a9",
   "metadata": {},
   "outputs": [],
   "source": [
    "c1=Bank(\"Happy\", \"HM\",\"2345\",2345)"
   ]
  },
  {
   "cell_type": "code",
   "execution_count": 28,
   "id": "c4197a13",
   "metadata": {},
   "outputs": [
    {
     "data": {
      "text/plain": [
       "'Happy'"
      ]
     },
     "execution_count": 28,
     "metadata": {},
     "output_type": "execute_result"
    }
   ],
   "source": [
    "c1.fullname"
   ]
  },
  {
   "cell_type": "code",
   "execution_count": 29,
   "id": "d30fbf40",
   "metadata": {},
   "outputs": [
    {
     "data": {
      "text/plain": [
       "'HM'"
      ]
     },
     "execution_count": 29,
     "metadata": {},
     "output_type": "execute_result"
    }
   ],
   "source": [
    "c1.username"
   ]
  },
  {
   "cell_type": "code",
   "execution_count": 30,
   "id": "619466c1",
   "metadata": {},
   "outputs": [
    {
     "data": {
      "text/plain": [
       "2345"
      ]
     },
     "execution_count": 30,
     "metadata": {},
     "output_type": "execute_result"
    }
   ],
   "source": [
    "c1.balance"
   ]
  },
  {
   "cell_type": "code",
   "execution_count": 34,
   "id": "8882fdbd",
   "metadata": {},
   "outputs": [
    {
     "name": "stdout",
     "output_type": "stream",
     "text": [
      "Enter your Username: HM\n",
      "Enter your password: HM\n",
      "Wrong password\n"
     ]
    }
   ],
   "source": [
    "c1.login()"
   ]
  },
  {
   "cell_type": "code",
   "execution_count": 35,
   "id": "847b1833",
   "metadata": {},
   "outputs": [
    {
     "name": "stdout",
     "output_type": "stream",
     "text": [
      "Enter your Username: HM\n",
      "Enter your password: 2345\n",
      "Login successfully👩‍🦰 \n"
     ]
    }
   ],
   "source": [
    "c1.login()"
   ]
  }
 ],
 "metadata": {
  "kernelspec": {
   "display_name": "Python 3 (ipykernel)",
   "language": "python",
   "name": "python3"
  },
  "language_info": {
   "codemirror_mode": {
    "name": "ipython",
    "version": 3
   },
   "file_extension": ".py",
   "mimetype": "text/x-python",
   "name": "python",
   "nbconvert_exporter": "python",
   "pygments_lexer": "ipython3",
   "version": "3.10.9"
  }
 },
 "nbformat": 4,
 "nbformat_minor": 5
}
