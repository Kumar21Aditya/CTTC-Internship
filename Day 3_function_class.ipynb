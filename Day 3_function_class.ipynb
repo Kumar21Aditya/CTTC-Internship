{
 "cells": [
  {
   "cell_type": "markdown",
   "id": "2d2b30e9",
   "metadata": {},
   "source": [
    "# ADOME NUMBER"
   ]
  },
  {
   "cell_type": "raw",
   "id": "df5e53ee",
   "metadata": {},
   "source": [
    "1. n=12\n",
    "2. n^2=144\n",
    "3. rev n^2 =441\n",
    "4. sqrt of rev n^2 = 21\n",
    "5. rev of sqrt rev n^2 =12"
   ]
  },
  {
   "cell_type": "code",
   "execution_count": 1,
   "id": "b2cea7d3",
   "metadata": {},
   "outputs": [
    {
     "name": "stdout",
     "output_type": "stream",
     "text": [
      "Enter a number:12\n",
      "12 is the adome number\n"
     ]
    }
   ],
   "source": [
    "n=int(input(\"Enter a number:\"))\n",
    "s= n*n\n",
    "rs=0# rs is the reverse of of s\n",
    "while s>0:\n",
    "    rem=s%10\n",
    "    rs=rs*10+rem\n",
    "    s//=10\n",
    "rrs=int(rs**0.5)#rrs is the root of rs\n",
    "r_rs=0#r_rs is the reverse of r \n",
    "while rrs>0:\n",
    "    rem=rrs%10\n",
    "    r_rs=r_rs*10+rem\n",
    "    rrs//=10\n",
    "    \n",
    "if n==r_rs:\n",
    "    print(n, \"is the adome number\")\n",
    "else:\n",
    "    print(n,\"is not a adome number\")\n"
   ]
  },
  {
   "cell_type": "markdown",
   "id": "7df2b9a9",
   "metadata": {},
   "source": [
    "USING IF ELSE"
   ]
  },
  {
   "cell_type": "code",
   "execution_count": 6,
   "id": "5e2895c4",
   "metadata": {},
   "outputs": [
    {
     "name": "stdout",
     "output_type": "stream",
     "text": [
      "Enter a number : 12\n",
      "Adome\n"
     ]
    }
   ],
   "source": [
    "n=int(input(\"Enter a number : \"))\n",
    "if n==int(str(int(int(str(n*n)[::-1])**0.5))[::-1]):\n",
    "    print(\"Adome\")\n",
    "else:\n",
    "    print(\"not Adome\")"
   ]
  },
  {
   "cell_type": "markdown",
   "id": "f9217583",
   "metadata": {},
   "source": [
    "Function "
   ]
  },
  {
   "cell_type": "raw",
   "id": "2ca05f9b",
   "metadata": {},
   "source": [
    "Reusable piece of code\n",
    " def Namefunc (arr1, arr2):\n",
    "        statement 1\n",
    "        statement 2"
   ]
  },
  {
   "cell_type": "code",
   "execution_count": 8,
   "id": "2ffcccba",
   "metadata": {},
   "outputs": [
    {
     "data": {
      "text/plain": [
       "25"
      ]
     },
     "execution_count": 8,
     "metadata": {},
     "output_type": "execute_result"
    }
   ],
   "source": [
    "def addme(a, b):\n",
    "    c=a+b\n",
    "    return(c)\n",
    "addme(12,13)"
   ]
  },
  {
   "cell_type": "code",
   "execution_count": 65,
   "id": "b4816b80",
   "metadata": {},
   "outputs": [],
   "source": [
    "def isPrime(n):\n",
    "    c=0\n",
    "    for i in range(1,n+1):\n",
    "        if n%i==0:\n",
    "            c+=1\n",
    "    if c==2:\n",
    "            return True\n",
    "    else:\n",
    "            return False"
   ]
  },
  {
   "cell_type": "code",
   "execution_count": 66,
   "id": "aa0f5516",
   "metadata": {},
   "outputs": [
    {
     "data": {
      "text/plain": [
       "True"
      ]
     },
     "execution_count": 66,
     "metadata": {},
     "output_type": "execute_result"
    }
   ],
   "source": [
    "isPrime(7)"
   ]
  },
  {
   "cell_type": "code",
   "execution_count": 67,
   "id": "c880d473",
   "metadata": {},
   "outputs": [],
   "source": [
    "def isprime(n):\n",
    "    print=True\n",
    "    for i in range(2,n):\n",
    "        if n%i==0:\n",
    "            print= False\n",
    "            break\n",
    "    return prime"
   ]
  },
  {
   "cell_type": "code",
   "execution_count": 24,
   "id": "95dc6cac",
   "metadata": {},
   "outputs": [
    {
     "data": {
      "text/plain": [
       "False"
      ]
     },
     "execution_count": 24,
     "metadata": {},
     "output_type": "execute_result"
    }
   ],
   "source": [
    "isPrime(9)"
   ]
  },
  {
   "cell_type": "markdown",
   "id": "b5c14086",
   "metadata": {},
   "source": [
    "# To print all the prime numbers between 1 to 100 "
   ]
  },
  {
   "cell_type": "code",
   "execution_count": 20,
   "id": "0b2a596f",
   "metadata": {},
   "outputs": [
    {
     "name": "stdout",
     "output_type": "stream",
     "text": [
      "2 3 5 7 11 13 17 19 23 29 31 37 41 43 47 53 59 61 67 71 73 79 83 89 97 "
     ]
    }
   ],
   "source": [
    "for i in range(2,101):\n",
    "    if isPrime(i):\n",
    "        print(i,end=\" \")"
   ]
  },
  {
   "cell_type": "markdown",
   "id": "34abfbd8",
   "metadata": {},
   "source": [
    "# To print the Capitaliztion of vowel from a string"
   ]
  },
  {
   "cell_type": "code",
   "execution_count": 25,
   "id": "ca9117ba",
   "metadata": {},
   "outputs": [],
   "source": [
    "def capV(n):\n",
    "    n=list(n)\n",
    "    for i in range(len(n)):\n",
    "        if n[i] in 'aeiou':\n",
    "            n[i] = n[i].upper()\n",
    "    return ''.join(n)"
   ]
  },
  {
   "cell_type": "code",
   "execution_count": 26,
   "id": "5635d388",
   "metadata": {},
   "outputs": [
    {
     "data": {
      "text/plain": [
       "'nAInA'"
      ]
     },
     "execution_count": 26,
     "metadata": {},
     "output_type": "execute_result"
    }
   ],
   "source": [
    "capV('naina')"
   ]
  },
  {
   "cell_type": "markdown",
   "id": "a7ca2c2d",
   "metadata": {},
   "source": [
    "Recursion "
   ]
  },
  {
   "cell_type": "raw",
   "id": "755c7581",
   "metadata": {},
   "source": [
    "Which call itself.\n",
    " def fac(n):\n",
    "        if n ==0 or n==1:\n",
    "            return 1\n",
    "        else:\n",
    "            return fac(n-1)*n"
   ]
  },
  {
   "cell_type": "code",
   "execution_count": 28,
   "id": "8c4d03d1",
   "metadata": {},
   "outputs": [
    {
     "data": {
      "text/plain": [
       "40320"
      ]
     },
     "execution_count": 28,
     "metadata": {},
     "output_type": "execute_result"
    }
   ],
   "source": [
    "def fact(n):\n",
    "        if n ==0 or n==1:\n",
    "            return 1\n",
    "        else:\n",
    "            return fac(n-1)*n\n",
    "fact(8)"
   ]
  },
  {
   "cell_type": "code",
   "execution_count": 32,
   "id": "e028a452",
   "metadata": {},
   "outputs": [
    {
     "data": {
      "text/plain": [
       "5048"
      ]
     },
     "execution_count": 32,
     "metadata": {},
     "output_type": "execute_result"
    }
   ],
   "source": [
    "def add(n):\n",
    "        if n ==0 :\n",
    "            return 0\n",
    "        else:\n",
    "            return fac(n-1)+n\n",
    "add(8)"
   ]
  },
  {
   "cell_type": "markdown",
   "id": "40edeafb",
   "metadata": {},
   "source": [
    "Lambda Function"
   ]
  },
  {
   "cell_type": "raw",
   "id": "1a7aea28",
   "metadata": {},
   "source": [
    "These are one line anonymous fuction, that can be stored in a variable.\n",
    "\n",
    "var= lambda arg : val if condition else val"
   ]
  },
  {
   "cell_type": "code",
   "execution_count": 33,
   "id": "76d45bba",
   "metadata": {},
   "outputs": [
    {
     "data": {
      "text/plain": [
       "True"
      ]
     },
     "execution_count": 33,
     "metadata": {},
     "output_type": "execute_result"
    }
   ],
   "source": [
    "isEven = lambda b:True if b%2==0 else False\n",
    "isEven(20)"
   ]
  },
  {
   "cell_type": "code",
   "execution_count": 48,
   "id": "a32d684d",
   "metadata": {},
   "outputs": [
    {
     "name": "stdout",
     "output_type": "stream",
     "text": [
      "Enter a number: 12\n"
     ]
    },
    {
     "data": {
      "text/plain": [
       "False"
      ]
     },
     "execution_count": 48,
     "metadata": {},
     "output_type": "execute_result"
    }
   ],
   "source": [
    "( lambda n:True if len([i for i in range(2,n) if n%i ==0])==2 else False)(int(input(\"Enter a number: \")))"
   ]
  },
  {
   "cell_type": "markdown",
   "id": "9c0fd205",
   "metadata": {},
   "source": [
    "Some built in function"
   ]
  },
  {
   "cell_type": "code",
   "execution_count": null,
   "id": "26c568ab",
   "metadata": {},
   "outputs": [],
   "source": [
    "1. sum(seq):- it takes a sequence of items and calculate its sum.\n",
    "2. len(seq):- length of sequency.\n",
    "3. min(seq):- return the minimum value of the sequency\n",
    "4. max(Seq):- return the maximum value of the sequency\n",
    "5. range(start, stop+1, step)\n",
    "6. map(fun, seq): it apply the function to every value of sequency\n",
    "7. filter"
   ]
  },
  {
   "cell_type": "code",
   "execution_count": 49,
   "id": "d44f8441",
   "metadata": {},
   "outputs": [
    {
     "data": {
      "text/plain": [
       "43"
      ]
     },
     "execution_count": 49,
     "metadata": {},
     "output_type": "execute_result"
    }
   ],
   "source": [
    "sum([12,15,16])"
   ]
  },
  {
   "cell_type": "code",
   "execution_count": 50,
   "id": "b1ea78cd",
   "metadata": {},
   "outputs": [
    {
     "data": {
      "text/plain": [
       "3"
      ]
     },
     "execution_count": 50,
     "metadata": {},
     "output_type": "execute_result"
    }
   ],
   "source": [
    "len([12,15,16])"
   ]
  },
  {
   "cell_type": "code",
   "execution_count": 52,
   "id": "593a5d96",
   "metadata": {},
   "outputs": [
    {
     "data": {
      "text/plain": [
       "12"
      ]
     },
     "execution_count": 52,
     "metadata": {},
     "output_type": "execute_result"
    }
   ],
   "source": [
    "min([12,15,16])"
   ]
  },
  {
   "cell_type": "code",
   "execution_count": 51,
   "id": "c7147e6e",
   "metadata": {},
   "outputs": [
    {
     "data": {
      "text/plain": [
       "16"
      ]
     },
     "execution_count": 51,
     "metadata": {},
     "output_type": "execute_result"
    }
   ],
   "source": [
    "max([12,15,16])"
   ]
  },
  {
   "cell_type": "code",
   "execution_count": 53,
   "id": "3c4a6311",
   "metadata": {},
   "outputs": [
    {
     "data": {
      "text/plain": [
       "range(1, 10, 2)"
      ]
     },
     "execution_count": 53,
     "metadata": {},
     "output_type": "execute_result"
    }
   ],
   "source": [
    "range(1,10,2)"
   ]
  },
  {
   "cell_type": "code",
   "execution_count": 55,
   "id": "866b3b34",
   "metadata": {},
   "outputs": [
    {
     "data": {
      "text/plain": [
       "25"
      ]
     },
     "execution_count": 55,
     "metadata": {},
     "output_type": "execute_result"
    }
   ],
   "source": [
    "def sq(n):\n",
    "    return n**2\n",
    "sq(5)"
   ]
  },
  {
   "cell_type": "code",
   "execution_count": 61,
   "id": "eee18388",
   "metadata": {},
   "outputs": [
    {
     "data": {
      "text/plain": [
       "[144, 49, 25, 36, 7921, 225, 400]"
      ]
     },
     "execution_count": 61,
     "metadata": {},
     "output_type": "execute_result"
    }
   ],
   "source": [
    "b= [12, 7,5,6,89,15,20]\n",
    "list(map(sq,b))"
   ]
  },
  {
   "cell_type": "code",
   "execution_count": 69,
   "id": "73befb10",
   "metadata": {},
   "outputs": [
    {
     "data": {
      "text/plain": [
       "[False, True, True, False, True, False, False]"
      ]
     },
     "execution_count": 69,
     "metadata": {},
     "output_type": "execute_result"
    }
   ],
   "source": [
    "list(map(isPrime,b))"
   ]
  },
  {
   "cell_type": "code",
   "execution_count": 68,
   "id": "740e44d9",
   "metadata": {},
   "outputs": [
    {
     "data": {
      "text/plain": [
       "[7, 5, 89]"
      ]
     },
     "execution_count": 68,
     "metadata": {},
     "output_type": "execute_result"
    }
   ],
   "source": [
    "list(filter(isPrime,b))"
   ]
  },
  {
   "cell_type": "markdown",
   "id": "ecce4576",
   "metadata": {},
   "source": [
    "# Write a python function that takes a list and return True if the list contains another list else return False."
   ]
  },
  {
   "cell_type": "code",
   "execution_count": 76,
   "id": "2119a5d9",
   "metadata": {},
   "outputs": [
    {
     "data": {
      "text/plain": [
       "True"
      ]
     },
     "execution_count": 76,
     "metadata": {},
     "output_type": "execute_result"
    }
   ],
   "source": [
    "def isNested(lis):\n",
    "    for i in lis:\n",
    "        if type(i)==list:\n",
    "            return True\n",
    "    else:\n",
    "        return False\n",
    "\n",
    "isNested([1,2,[4,5],3])"
   ]
  },
  {
   "cell_type": "markdown",
   "id": "c730dc84",
   "metadata": {},
   "source": [
    "# Write a python function that takes a non negative integer \"n\" and return the sum of all the numbers up to n."
   ]
  },
  {
   "cell_type": "code",
   "execution_count": 74,
   "id": "ea24b10c",
   "metadata": {},
   "outputs": [
    {
     "name": "stdout",
     "output_type": "stream",
     "text": [
      "12\n",
      "9\n"
     ]
    }
   ],
   "source": [
    "def sum(n):\n",
    "  if n == 0:\n",
    "    return 0\n",
    "  else:\n",
    "    return n % 10 + sum(int(n / 10))\n",
    "\n",
    "print(sum(345))\n",
    "print(sum(45))\n"
   ]
  },
  {
   "cell_type": "code",
   "execution_count": null,
   "id": "599659fa",
   "metadata": {},
   "outputs": [],
   "source": []
  }
 ],
 "metadata": {
  "kernelspec": {
   "display_name": "Python 3 (ipykernel)",
   "language": "python",
   "name": "python3"
  },
  "language_info": {
   "codemirror_mode": {
    "name": "ipython",
    "version": 3
   },
   "file_extension": ".py",
   "mimetype": "text/x-python",
   "name": "python",
   "nbconvert_exporter": "python",
   "pygments_lexer": "ipython3",
   "version": "3.10.9"
  }
 },
 "nbformat": 4,
 "nbformat_minor": 5
}
