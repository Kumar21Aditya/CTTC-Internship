{
 "cells": [
  {
   "cell_type": "markdown",
   "id": "e722c48e",
   "metadata": {},
   "source": [
    "# IF"
   ]
  },
  {
   "cell_type": "raw",
   "id": "05ac939c",
   "metadata": {},
   "source": [
    "SYNTAX:\n",
    "if condition:\n",
    "    statements"
   ]
  },
  {
   "cell_type": "code",
   "execution_count": 8,
   "id": "3bea10bd",
   "metadata": {},
   "outputs": [
    {
     "name": "stdout",
     "output_type": "stream",
     "text": [
      "Enter the age:- 20\n",
      "it is the election time 2000 bonus\n"
     ]
    }
   ],
   "source": [
    "n= int(input(\"Enter the age:- \"))\n",
    "if n>18:\n",
    "    print(\"it is the election time 2000 bonus\")"
   ]
  },
  {
   "cell_type": "markdown",
   "id": "cbcc2c27",
   "metadata": {},
   "source": [
    "# IF ELSE"
   ]
  },
  {
   "cell_type": "raw",
   "id": "b9beaf42",
   "metadata": {},
   "source": [
    "SYNTAX:\n",
    "if :\n",
    "    statements\n",
    "else:\n",
    "    statements"
   ]
  },
  {
   "cell_type": "code",
   "execution_count": 5,
   "id": "1fb61d9d",
   "metadata": {},
   "outputs": [
    {
     "name": "stdout",
     "output_type": "stream",
     "text": [
      "Enter the age:- 20\n",
      "Eligible for vote\n"
     ]
    }
   ],
   "source": [
    "n= int(input(\"Enter the age:- \"))\n",
    "if n>18:\n",
    "    print(\"Eligible for vote\")\n",
    "else:\n",
    "    print(\"Not Eligible foe vote\")"
   ]
  },
  {
   "cell_type": "markdown",
   "id": "118f71fb",
   "metadata": {},
   "source": [
    "# Nested if-else:-"
   ]
  },
  {
   "cell_type": "markdown",
   "id": "18be9fc6",
   "metadata": {},
   "source": [
    " if-else inside the if else"
   ]
  },
  {
   "cell_type": "code",
   "execution_count": 7,
   "id": "32371b03",
   "metadata": {},
   "outputs": [
    {
     "name": "stdout",
     "output_type": "stream",
     "text": [
      "Enter a number:- 6\n",
      "6  is positive and even number\n"
     ]
    }
   ],
   "source": [
    "n= int(input(\"Enter a number:- \"))\n",
    "if n>0:\n",
    "    if n%2==0:\n",
    "        print(n,\" is positive and even number\")\n",
    "    else:\n",
    "        print(n,\" is positive and odd number\")\n",
    "else:\n",
    "    if n%2==0:\n",
    "        print(n,\" is negative and even number\")\n",
    "    else:\n",
    "        print(n,\" is negative and odd number\")"
   ]
  },
  {
   "cell_type": "code",
   "execution_count": 11,
   "id": "5c570170",
   "metadata": {},
   "outputs": [
    {
     "name": "stdout",
     "output_type": "stream",
     "text": [
      "Enter a number:- 20\n",
      "20  is positive and even number\n"
     ]
    }
   ],
   "source": [
    "n= int(input(\"Enter a number:- \"))\n",
    "if n>0:\n",
    "    if n%2==0:\n",
    "        print(n,\" is positive and even number\")\n",
    "    else:\n",
    "        print(n,\" is positive and odd number\")\n",
    "elif n<0:\n",
    "    if n%2==0:\n",
    "         print(n,\" is negative and even number\")\n",
    "    else:\n",
    "        print(n,\" is negative and odd number\")\n",
    "else:\n",
    "    print(n,\"Neither positive nor negative even odd number\")"
   ]
  },
  {
   "cell_type": "markdown",
   "id": "991781ee",
   "metadata": {},
   "source": [
    "# Write a python program to enter a full name by a user print the last name."
   ]
  },
  {
   "cell_type": "code",
   "execution_count": 19,
   "id": "42eee385",
   "metadata": {},
   "outputs": [
    {
     "name": "stdout",
     "output_type": "stream",
     "text": [
      "Enter the name:- Naina Sahu\n"
     ]
    },
    {
     "data": {
      "text/plain": [
       "'Sahu'"
      ]
     },
     "execution_count": 19,
     "metadata": {},
     "output_type": "execute_result"
    }
   ],
   "source": [
    "x= input(\"Enter the name:- \")\n",
    "x.split()[-1]"
   ]
  },
  {
   "cell_type": "markdown",
   "id": "39b91bf1",
   "metadata": {},
   "source": [
    "# To check the pallindrome number"
   ]
  },
  {
   "cell_type": "code",
   "execution_count": 2,
   "id": "05289750",
   "metadata": {},
   "outputs": [
    {
     "name": "stdout",
     "output_type": "stream",
     "text": [
      "Enter the number:- 121\n",
      "It is a pallindrome number\n"
     ]
    }
   ],
   "source": [
    "x= int(input(\"Enter the number:- \"))\n",
    "rev =int(str(x)[::-1])\n",
    "if x==rev:\n",
    "    print(\"It is a pallindrome number\")\n",
    "else:\n",
    "    print(\"It is not a pallindrome number\")"
   ]
  },
  {
   "cell_type": "markdown",
   "id": "4845d662",
   "metadata": {},
   "source": [
    "# Looping"
   ]
  },
  {
   "cell_type": "markdown",
   "id": "5d846d7c",
   "metadata": {},
   "source": [
    "1.For loop"
   ]
  },
  {
   "cell_type": "code",
   "execution_count": 3,
   "id": "aed37351",
   "metadata": {},
   "outputs": [
    {
     "name": "stdout",
     "output_type": "stream",
     "text": [
      "1\n",
      "2\n",
      "3\n",
      "4\n",
      "5\n",
      "6\n",
      "7\n",
      "8\n",
      "9\n"
     ]
    }
   ],
   "source": [
    "for i in [1,2,3,4,5,6,7,8,9]:\n",
    "    print(i)"
   ]
  },
  {
   "cell_type": "raw",
   "id": "3fb7e356",
   "metadata": {},
   "source": [
    "for i in range where range means (is a builtin function) , (start, stop+1, step)\n",
    "end=/n # for new line"
   ]
  },
  {
   "cell_type": "code",
   "execution_count": 5,
   "id": "5438cead",
   "metadata": {},
   "outputs": [
    {
     "name": "stdout",
     "output_type": "stream",
     "text": [
      "1 2 3 4 5 6 7 8 9 10 11 12 13 14 15 16 17 18 19 20 21 22 23 24 25 26 27 28 29 30 31 32 33 34 35 36 37 38 39 40 41 42 43 44 45 46 47 48 49 50 51 52 53 54 55 56 57 58 59 60 61 62 63 64 65 66 67 68 69 70 71 72 73 74 75 76 77 78 79 80 81 82 83 84 85 86 87 88 89 90 91 92 93 94 95 96 97 98 99 100 "
     ]
    }
   ],
   "source": [
    "for i in range(1,101):\n",
    "    print(i, end=\" \")"
   ]
  },
  {
   "cell_type": "code",
   "execution_count": 6,
   "id": "6cb5f2b3",
   "metadata": {},
   "outputs": [
    {
     "name": "stdout",
     "output_type": "stream",
     "text": [
      "2 4 6 8 10 12 14 16 18 20 22 24 26 28 30 32 34 36 38 40 42 44 46 48 50 52 54 56 58 60 62 64 66 68 70 72 74 76 78 80 82 84 86 88 90 92 94 96 98 100 "
     ]
    }
   ],
   "source": [
    "#To print even numbers\n",
    "for i in range(2,101,2):\n",
    "    print(i, end=\" \")"
   ]
  },
  {
   "cell_type": "code",
   "execution_count": 10,
   "id": "214197ee",
   "metadata": {},
   "outputs": [
    {
     "name": "stdout",
     "output_type": "stream",
     "text": [
      "Enter a number:- 9\n",
      "9 X 1 = 9\n",
      "9 X 2 = 18\n",
      "9 X 3 = 27\n",
      "9 X 4 = 36\n",
      "9 X 5 = 45\n",
      "9 X 6 = 54\n",
      "9 X 7 = 63\n",
      "9 X 8 = 72\n",
      "9 X 9 = 81\n",
      "9 X 10 = 90\n"
     ]
    }
   ],
   "source": [
    "#To print multiplication table\n",
    "x= int(input(\"Enter a number:- \"))\n",
    "for i in range(1,11):\n",
    "    print(x, \"X\",i,\"=\",x*i)"
   ]
  },
  {
   "cell_type": "code",
   "execution_count": 12,
   "id": "a2c8d124",
   "metadata": {},
   "outputs": [
    {
     "name": "stdout",
     "output_type": "stream",
     "text": [
      "Enter a number:- 4\n",
      "1\n",
      "2\n",
      "4\n"
     ]
    }
   ],
   "source": [
    "x= int(input(\"Enter a number:- \"))\n",
    "for i in range(1,x+1):\n",
    "    if x%i ==0:\n",
    "        print(i)"
   ]
  },
  {
   "cell_type": "markdown",
   "id": "578b3c25",
   "metadata": {},
   "source": [
    "# To check the prime number"
   ]
  },
  {
   "cell_type": "code",
   "execution_count": 14,
   "id": "e1a927ea",
   "metadata": {},
   "outputs": [
    {
     "name": "stdout",
     "output_type": "stream",
     "text": [
      "Enter a number:- 8\n",
      "Not Prime\n"
     ]
    }
   ],
   "source": [
    "x= int(input(\"Enter a number:- \"))\n",
    "c=0\n",
    "for i in range(1,x+1):\n",
    "    if x%i ==0:\n",
    "         c+=1\n",
    "if c==2:\n",
    "    print(\"Prime Number\")\n",
    "else:\n",
    "    print(\"Not Prime\")"
   ]
  },
  {
   "cell_type": "code",
   "execution_count": 16,
   "id": "38557550",
   "metadata": {},
   "outputs": [
    {
     "name": "stdout",
     "output_type": "stream",
     "text": [
      "Enter a number:- 9\n",
      "Not Prime\n"
     ]
    }
   ],
   "source": [
    "x= int(input(\"Enter a number:- \"))\n",
    "c=0\n",
    "for i in range(2,x):\n",
    "    if x%i ==0:\n",
    "         c+=1\n",
    "if c==0:\n",
    "    print(\"Prime Number\")\n",
    "else:\n",
    "    print(\"Not Prime\")"
   ]
  },
  {
   "cell_type": "markdown",
   "id": "56788f65",
   "metadata": {},
   "source": [
    "# To print the pattern"
   ]
  },
  {
   "cell_type": "code",
   "execution_count": 27,
   "id": "b212f7ed",
   "metadata": {},
   "outputs": [
    {
     "name": "stdout",
     "output_type": "stream",
     "text": [
      "Enter the row:- 5\n",
      "🏎️ \n",
      "🏎️ 🏎️ \n",
      "🏎️ 🏎️ 🏎️ \n",
      "🏎️ 🏎️ 🏎️ 🏎️ \n",
      "🏎️ 🏎️ 🏎️ 🏎️ 🏎️ \n"
     ]
    }
   ],
   "source": [
    "n= int(input(\"Enter the row:- \"))\n",
    "for i in range(1,n+1):\n",
    "    print(\"🏎️ \" *i)"
   ]
  },
  {
   "cell_type": "code",
   "execution_count": 25,
   "id": "0632c274",
   "metadata": {},
   "outputs": [
    {
     "name": "stdout",
     "output_type": "stream",
     "text": [
      "Enter the row:- 5\n",
      "🍰 🍰 🍰 🍰 🍰 \n",
      "🍰 🍰 🍰 🍰 \n",
      "🍰 🍰 🍰 \n",
      "🍰 🍰 \n",
      "🍰 \n"
     ]
    }
   ],
   "source": [
    "n= int(input(\"Enter the row:- \"))\n",
    "for i in range(n,0,-1):\n",
    "    print(\"🍰 \" *i)"
   ]
  },
  {
   "cell_type": "code",
   "execution_count": 28,
   "id": "fec9254b",
   "metadata": {},
   "outputs": [
    {
     "name": "stdout",
     "output_type": "stream",
     "text": [
      "Enter the row:- 5\n",
      "1 \n",
      "1 2 \n",
      "1 2 3 \n",
      "1 2 3 4 \n",
      "1 2 3 4 5 \n"
     ]
    }
   ],
   "source": [
    "n= int(input(\"Enter the row:- \"))\n",
    "for i in range(1,n+1):\n",
    "    for j in range(1,i+1):\n",
    "        print(j,end= ' ')\n",
    "    print(\"\")"
   ]
  },
  {
   "cell_type": "code",
   "execution_count": 29,
   "id": "f58dfa4c",
   "metadata": {},
   "outputs": [
    {
     "name": "stdout",
     "output_type": "stream",
     "text": [
      "Enter the row:- 5\n",
      "1 \n",
      "2 4 \n",
      "3 6 9 \n",
      "4 8 12 16 \n",
      "5 10 15 20 25 \n"
     ]
    }
   ],
   "source": [
    "n= int(input(\"Enter the row:- \"))\n",
    "for i in range(1,n+1):\n",
    "    for j in range(1,i+1):\n",
    "        print(j*i,end= ' ')\n",
    "    print(\"\")"
   ]
  },
  {
   "cell_type": "markdown",
   "id": "9233405c",
   "metadata": {},
   "source": [
    "# List Comphresion"
   ]
  },
  {
   "cell_type": "code",
   "execution_count": 32,
   "id": "b05e96ed",
   "metadata": {},
   "outputs": [
    {
     "data": {
      "text/plain": [
       "[2, 4, 6, 8, 10]"
      ]
     },
     "execution_count": 32,
     "metadata": {},
     "output_type": "execute_result"
    }
   ],
   "source": [
    "\n",
    "[i for i in range(1,11) if i%2 ==0]"
   ]
  },
  {
   "cell_type": "code",
   "execution_count": 35,
   "id": "18e21dc1",
   "metadata": {},
   "outputs": [
    {
     "name": "stdout",
     "output_type": "stream",
     "text": [
      "Enter the number:- 45\n",
      "Not Prime\n"
     ]
    }
   ],
   "source": [
    "n= int(input(\"Enter the number:- \"))\n",
    "print(\"prime \"if len([i for i in range(1,n+1) if n%1 ==0])==2 else \"Not Prime\")"
   ]
  },
  {
   "cell_type": "code",
   "execution_count": 36,
   "id": "d1a75ccb",
   "metadata": {},
   "outputs": [
    {
     "name": "stdout",
     "output_type": "stream",
     "text": [
      "1\n",
      "2\n",
      "3\n",
      "4\n",
      "5\n",
      "6\n",
      "7\n",
      "8\n",
      "9\n"
     ]
    }
   ],
   "source": [
    "i=1\n",
    "while i<10:\n",
    "    print(i)\n",
    "    i+=1"
   ]
  },
  {
   "cell_type": "code",
   "execution_count": 1,
   "id": "d37957fb",
   "metadata": {},
   "outputs": [
    {
     "name": "stdout",
     "output_type": "stream",
     "text": [
      "Enter the number:- 123\n",
      "321\n"
     ]
    }
   ],
   "source": [
    "n = int(input(\"Enter the number:- \"))\n",
    "rev=0\n",
    "while n>0:\n",
    "    rem = n%10\n",
    "    rev = rev*10+rem\n",
    "    n//=10\n",
    "print(rev)"
   ]
  },
  {
   "cell_type": "code",
   "execution_count": 2,
   "id": "6de428bb",
   "metadata": {},
   "outputs": [
    {
     "name": "stdout",
     "output_type": "stream",
     "text": [
      "Enter the number:- 3\n",
      "3\n"
     ]
    }
   ],
   "source": [
    "n = int(input(\"Enter the number:- \"))\n",
    "rev=0\n",
    "while n>0:\n",
    "    rem = n%10\n",
    "    rev = rev*10+rem\n",
    "    n//=10\n",
    "print(rev)"
   ]
  },
  {
   "cell_type": "code",
   "execution_count": 4,
   "id": "1041e600",
   "metadata": {},
   "outputs": [
    {
     "data": {
      "text/plain": [
       "3"
      ]
     },
     "execution_count": 4,
     "metadata": {},
     "output_type": "execute_result"
    }
   ],
   "source": [
    "3%10"
   ]
  },
  {
   "cell_type": "code",
   "execution_count": 5,
   "id": "db299042",
   "metadata": {},
   "outputs": [
    {
     "data": {
      "text/plain": [
       "0"
      ]
     },
     "execution_count": 5,
     "metadata": {},
     "output_type": "execute_result"
    }
   ],
   "source": [
    "3//10"
   ]
  },
  {
   "cell_type": "markdown",
   "id": "7ef3ea25",
   "metadata": {},
   "source": [
    "Adome Number -"
   ]
  },
  {
   "cell_type": "raw",
   "id": "0d6d71f9",
   "metadata": {},
   "source": [
    "1. n=12\n",
    "2. n^2=144\n",
    "3. rev n^2 =441\n",
    "4. sqrt of rev n^2 = 21\n",
    "5. rev of sqrt rev n^2 =12"
   ]
  }
 ],
 "metadata": {
  "kernelspec": {
   "display_name": "Python 3 (ipykernel)",
   "language": "python",
   "name": "python3"
  },
  "language_info": {
   "codemirror_mode": {
    "name": "ipython",
    "version": 3
   },
   "file_extension": ".py",
   "mimetype": "text/x-python",
   "name": "python",
   "nbconvert_exporter": "python",
   "pygments_lexer": "ipython3",
   "version": "3.10.9"
  }
 },
 "nbformat": 4,
 "nbformat_minor": 5
}
