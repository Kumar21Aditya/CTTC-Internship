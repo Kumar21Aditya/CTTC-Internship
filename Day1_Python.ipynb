{
 "cells": [
  {
   "cell_type": "code",
   "execution_count": 1,
   "id": "6b77940d",
   "metadata": {},
   "outputs": [
    {
     "name": "stdout",
     "output_type": "stream",
     "text": [
      "hello\n"
     ]
    }
   ],
   "source": [
    "print(\"hello\")"
   ]
  },
  {
   "cell_type": "code",
   "execution_count": 2,
   "id": "e70cfc4b",
   "metadata": {},
   "outputs": [
    {
     "name": "stdout",
     "output_type": "stream",
     "text": [
      "\n",
      "Here is a list of the Python keywords.  Enter any keyword to get more help.\n",
      "\n",
      "False               class               from                or\n",
      "None                continue            global              pass\n",
      "True                def                 if                  raise\n",
      "and                 del                 import              return\n",
      "as                  elif                in                  try\n",
      "assert              else                is                  while\n",
      "async               except              lambda              with\n",
      "await               finally             nonlocal            yield\n",
      "break               for                 not                 \n",
      "\n"
     ]
    }
   ],
   "source": [
    "help(\"keywords\")"
   ]
  },
  {
   "cell_type": "markdown",
   "id": "d71eb79f",
   "metadata": {},
   "source": [
    "# Variable :- it is a name given to memory locations that can store a value.\n",
    "    1.Keywords can't use.\n",
    "    2.Can't with digit.\n",
    "    3.Can't include any special character only use underscore.\n",
    "    4.Can't have space.\n",
    "    5.It is case sensitive."
   ]
  },
  {
   "cell_type": "code",
   "execution_count": 15,
   "id": "2819903f",
   "metadata": {},
   "outputs": [],
   "source": [
    "a=12\n",
    "b=15.5\n",
    "c=15+7j\n",
    "d='dog'\n",
    "e=[1,2,3,4,5,6,'dog']\n",
    "f={1,2,3,4,5,6}\n",
    "g=(1,2,3,4,5,6,\"dog\")\n",
    "h={'a':12,'b':15}\n",
    "i=False"
   ]
  },
  {
   "cell_type": "code",
   "execution_count": 16,
   "id": "dbeea415",
   "metadata": {},
   "outputs": [
    {
     "name": "stdout",
     "output_type": "stream",
     "text": [
      "12\n",
      "15.5\n",
      "(15+7j)\n",
      "dog\n",
      "[1, 2, 3, 4, 5, 6, 'dog']\n",
      "{1, 2, 3, 4, 5, 6}\n",
      "(1, 2, 3, 4, 5, 6, 'dog')\n",
      "{'a': 12, 'b': 15}\n",
      "False\n"
     ]
    }
   ],
   "source": [
    "print(a)\n",
    "print(b)\n",
    "print(c)\n",
    "print(d)\n",
    "print(e)\n",
    "print(f)\n",
    "print(g)\n",
    "print(h)\n",
    "print(i)"
   ]
  },
  {
   "cell_type": "code",
   "execution_count": 17,
   "id": "bce4fefd",
   "metadata": {},
   "outputs": [
    {
     "data": {
      "text/plain": [
       "int"
      ]
     },
     "execution_count": 17,
     "metadata": {},
     "output_type": "execute_result"
    }
   ],
   "source": [
    "type(a)"
   ]
  },
  {
   "cell_type": "code",
   "execution_count": 18,
   "id": "8652bebc",
   "metadata": {},
   "outputs": [
    {
     "data": {
      "text/plain": [
       "float"
      ]
     },
     "execution_count": 18,
     "metadata": {},
     "output_type": "execute_result"
    }
   ],
   "source": [
    "type(b)"
   ]
  },
  {
   "cell_type": "code",
   "execution_count": 19,
   "id": "4864675d",
   "metadata": {},
   "outputs": [
    {
     "data": {
      "text/plain": [
       "complex"
      ]
     },
     "execution_count": 19,
     "metadata": {},
     "output_type": "execute_result"
    }
   ],
   "source": [
    "type(c)"
   ]
  },
  {
   "cell_type": "code",
   "execution_count": 20,
   "id": "094ae9af",
   "metadata": {},
   "outputs": [
    {
     "data": {
      "text/plain": [
       "str"
      ]
     },
     "execution_count": 20,
     "metadata": {},
     "output_type": "execute_result"
    }
   ],
   "source": [
    "type(d)"
   ]
  },
  {
   "cell_type": "code",
   "execution_count": 21,
   "id": "3c851e8d",
   "metadata": {},
   "outputs": [
    {
     "data": {
      "text/plain": [
       "list"
      ]
     },
     "execution_count": 21,
     "metadata": {},
     "output_type": "execute_result"
    }
   ],
   "source": [
    "type(e)"
   ]
  },
  {
   "cell_type": "code",
   "execution_count": 22,
   "id": "ec4f5644",
   "metadata": {},
   "outputs": [
    {
     "data": {
      "text/plain": [
       "set"
      ]
     },
     "execution_count": 22,
     "metadata": {},
     "output_type": "execute_result"
    }
   ],
   "source": [
    "type(f)"
   ]
  },
  {
   "cell_type": "code",
   "execution_count": 23,
   "id": "247adb16",
   "metadata": {},
   "outputs": [
    {
     "data": {
      "text/plain": [
       "tuple"
      ]
     },
     "execution_count": 23,
     "metadata": {},
     "output_type": "execute_result"
    }
   ],
   "source": [
    "type(g)"
   ]
  },
  {
   "cell_type": "code",
   "execution_count": 24,
   "id": "bed53c64",
   "metadata": {},
   "outputs": [
    {
     "data": {
      "text/plain": [
       "dict"
      ]
     },
     "execution_count": 24,
     "metadata": {},
     "output_type": "execute_result"
    }
   ],
   "source": [
    "type(h)"
   ]
  },
  {
   "cell_type": "code",
   "execution_count": 25,
   "id": "cfa439ad",
   "metadata": {},
   "outputs": [
    {
     "data": {
      "text/plain": [
       "bool"
      ]
     },
     "execution_count": 25,
     "metadata": {},
     "output_type": "execute_result"
    }
   ],
   "source": [
    "type(i)"
   ]
  },
  {
   "cell_type": "markdown",
   "id": "dbb72705",
   "metadata": {},
   "source": [
    "# Operators:-\n",
    "1. assignment :- it assignthe value LHS to RHS \n",
    "2. arithmatic :- +,-,*,/,**,%,//\n",
    "3. comparison :- >,<,==,!=,<=,>=\n",
    "4. logical :- and , or ,not \n",
    "5. membership :- in ,not in"
   ]
  },
  {
   "cell_type": "markdown",
   "id": "b78e688a",
   "metadata": {},
   "source": [
    "# String datatype:- Charectors in a sequence inside the\n",
    "''\n",
    ",\n",
    "\"\"\n",
    ",\n",
    "'''''"
   ]
  },
  {
   "cell_type": "code",
   "execution_count": 26,
   "id": "e29d9b35",
   "metadata": {},
   "outputs": [],
   "source": [
    "g = 'python'"
   ]
  },
  {
   "cell_type": "code",
   "execution_count": 27,
   "id": "69c3a3bf",
   "metadata": {},
   "outputs": [
    {
     "data": {
      "text/plain": [
       "str"
      ]
     },
     "execution_count": 27,
     "metadata": {},
     "output_type": "execute_result"
    }
   ],
   "source": [
    "type(g)"
   ]
  },
  {
   "cell_type": "code",
   "execution_count": 28,
   "id": "9ddef501",
   "metadata": {},
   "outputs": [
    {
     "data": {
      "text/plain": [
       "'y'"
      ]
     },
     "execution_count": 28,
     "metadata": {},
     "output_type": "execute_result"
    }
   ],
   "source": [
    "g[-5]"
   ]
  },
  {
   "cell_type": "code",
   "execution_count": 5,
   "id": "1c5949ff",
   "metadata": {},
   "outputs": [],
   "source": [
    "s = \"python classroom\"\n",
    "#1.moor\n",
    "#2.ncas\n",
    "#3.nhy\n",
    "#4.mra\n",
    "#5.msch\n",
    "#7.otp"
   ]
  },
  {
   "cell_type": "code",
   "execution_count": 6,
   "id": "6b8d2002",
   "metadata": {},
   "outputs": [
    {
     "data": {
      "text/plain": [
       "'moor'"
      ]
     },
     "execution_count": 6,
     "metadata": {},
     "output_type": "execute_result"
    }
   ],
   "source": [
    "s[-1:-5:-1]"
   ]
  },
  {
   "cell_type": "code",
   "execution_count": 7,
   "id": "d30c374e",
   "metadata": {},
   "outputs": [
    {
     "data": {
      "text/plain": [
       "'ncas'"
      ]
     },
     "execution_count": 7,
     "metadata": {},
     "output_type": "execute_result"
    }
   ],
   "source": [
    "s[5:12:2]"
   ]
  },
  {
   "cell_type": "code",
   "execution_count": 8,
   "id": "a412a29f",
   "metadata": {},
   "outputs": [
    {
     "data": {
      "text/plain": [
       "'nhy'"
      ]
     },
     "execution_count": 8,
     "metadata": {},
     "output_type": "execute_result"
    }
   ],
   "source": [
    "s[-11:-16:-2]"
   ]
  },
  {
   "cell_type": "code",
   "execution_count": 10,
   "id": "e7eb6d10",
   "metadata": {},
   "outputs": [
    {
     "data": {
      "text/plain": [
       "'mra'"
      ]
     },
     "execution_count": 10,
     "metadata": {},
     "output_type": "execute_result"
    }
   ],
   "source": [
    "s[-1:-8:-3]"
   ]
  },
  {
   "cell_type": "code",
   "execution_count": 11,
   "id": "85a9e5b3",
   "metadata": {},
   "outputs": [
    {
     "data": {
      "text/plain": [
       "'msch'"
      ]
     },
     "execution_count": 11,
     "metadata": {},
     "output_type": "execute_result"
    }
   ],
   "source": [
    "s[-1:-14:-4]"
   ]
  },
  {
   "cell_type": "code",
   "execution_count": 12,
   "id": "99c82929",
   "metadata": {},
   "outputs": [
    {
     "data": {
      "text/plain": [
       "'otp'"
      ]
     },
     "execution_count": 12,
     "metadata": {},
     "output_type": "execute_result"
    }
   ],
   "source": [
    "s[4::-2]"
   ]
  },
  {
   "cell_type": "markdown",
   "id": "b4317595",
   "metadata": {},
   "source": [
    "# String Attributes"
   ]
  },
  {
   "cell_type": "code",
   "execution_count": 14,
   "id": "ee63173a",
   "metadata": {},
   "outputs": [
    {
     "data": {
      "text/plain": [
       "'Python'"
      ]
     },
     "execution_count": 14,
     "metadata": {},
     "output_type": "execute_result"
    }
   ],
   "source": [
    "d=\"python\"\n",
    "d.capitalize()"
   ]
  },
  {
   "cell_type": "code",
   "execution_count": 15,
   "id": "7489f026",
   "metadata": {},
   "outputs": [
    {
     "data": {
      "text/plain": [
       "'PYTHON'"
      ]
     },
     "execution_count": 15,
     "metadata": {},
     "output_type": "execute_result"
    }
   ],
   "source": [
    "d=\"python\"\n",
    "d.upper()"
   ]
  },
  {
   "cell_type": "code",
   "execution_count": 16,
   "id": "cf4fe7a8",
   "metadata": {},
   "outputs": [
    {
     "data": {
      "text/plain": [
       "'python'"
      ]
     },
     "execution_count": 16,
     "metadata": {},
     "output_type": "execute_result"
    }
   ],
   "source": [
    "d=\"PYTHon\"\n",
    "d.lower()"
   ]
  },
  {
   "cell_type": "code",
   "execution_count": 17,
   "id": "52afc86d",
   "metadata": {},
   "outputs": [
    {
     "data": {
      "text/plain": [
       "'pythON'"
      ]
     },
     "execution_count": 17,
     "metadata": {},
     "output_type": "execute_result"
    }
   ],
   "source": [
    "d=\"PYTHon\"\n",
    "d.swapcase()"
   ]
  },
  {
   "cell_type": "code",
   "execution_count": 19,
   "id": "af643996",
   "metadata": {},
   "outputs": [
    {
     "data": {
      "text/plain": [
       "2"
      ]
     },
     "execution_count": 19,
     "metadata": {},
     "output_type": "execute_result"
    }
   ],
   "source": [
    "a=\"python_programming\"\n",
    "a.count('p')"
   ]
  },
  {
   "cell_type": "code",
   "execution_count": 20,
   "id": "c549fbae",
   "metadata": {},
   "outputs": [
    {
     "data": {
      "text/plain": [
       "'python'"
      ]
     },
     "execution_count": 20,
     "metadata": {},
     "output_type": "execute_result"
    }
   ],
   "source": [
    "d=\"PYTHon\"\n",
    "d.casefold()"
   ]
  },
  {
   "cell_type": "code",
   "execution_count": 21,
   "id": "b8957fc4",
   "metadata": {},
   "outputs": [
    {
     "data": {
      "text/plain": [
       "8"
      ]
     },
     "execution_count": 21,
     "metadata": {},
     "output_type": "execute_result"
    }
   ],
   "source": [
    "a=\"python_programming\"\n",
    "a.find('r')"
   ]
  },
  {
   "cell_type": "code",
   "execution_count": 24,
   "id": "153b538d",
   "metadata": {},
   "outputs": [
    {
     "data": {
      "text/plain": [
       "'💻💻💻💻💻💻💻python💻💻💻💻💻💻💻'"
      ]
     },
     "execution_count": 24,
     "metadata": {},
     "output_type": "execute_result"
    }
   ],
   "source": [
    "d=\"python\"\n",
    "d.center(20,\"💻\")"
   ]
  },
  {
   "cell_type": "code",
   "execution_count": 25,
   "id": "e7d7b0bf",
   "metadata": {},
   "outputs": [
    {
     "data": {
      "text/plain": [
       "b'python'"
      ]
     },
     "execution_count": 25,
     "metadata": {},
     "output_type": "execute_result"
    }
   ],
   "source": [
    "d=\"python\"\n",
    "d.encode()"
   ]
  },
  {
   "cell_type": "code",
   "execution_count": 28,
   "id": "3eb2a29c",
   "metadata": {},
   "outputs": [
    {
     "data": {
      "text/plain": [
       "False"
      ]
     },
     "execution_count": 28,
     "metadata": {},
     "output_type": "execute_result"
    }
   ],
   "source": [
    "d=\"python\"\n",
    "d.endswith(\"p\")"
   ]
  },
  {
   "cell_type": "code",
   "execution_count": 29,
   "id": "48d676b4",
   "metadata": {},
   "outputs": [
    {
     "data": {
      "text/plain": [
       "False"
      ]
     },
     "execution_count": 29,
     "metadata": {},
     "output_type": "execute_result"
    }
   ],
   "source": [
    "d=\"python\"\n",
    "d.isupper()"
   ]
  },
  {
   "cell_type": "code",
   "execution_count": 30,
   "id": "af589d8d",
   "metadata": {},
   "outputs": [
    {
     "data": {
      "text/plain": [
       "'123456789'"
      ]
     },
     "execution_count": 30,
     "metadata": {},
     "output_type": "execute_result"
    }
   ],
   "source": [
    "p='123456789'\n",
    "p.title()"
   ]
  },
  {
   "cell_type": "code",
   "execution_count": 31,
   "id": "32eee5d0",
   "metadata": {},
   "outputs": [
    {
     "data": {
      "text/plain": [
       "True"
      ]
     },
     "execution_count": 31,
     "metadata": {},
     "output_type": "execute_result"
    }
   ],
   "source": [
    "d = 'Python Class Room'\n",
    "d.istitle()"
   ]
  },
  {
   "cell_type": "code",
   "execution_count": 32,
   "id": "c1cf6569",
   "metadata": {},
   "outputs": [
    {
     "data": {
      "text/plain": [
       "False"
      ]
     },
     "execution_count": 32,
     "metadata": {},
     "output_type": "execute_result"
    }
   ],
   "source": [
    "g = 'adfrg@'\n",
    "g.isalpha()"
   ]
  },
  {
   "cell_type": "code",
   "execution_count": 33,
   "id": "0696c134",
   "metadata": {},
   "outputs": [
    {
     "data": {
      "text/plain": [
       "False"
      ]
     },
     "execution_count": 33,
     "metadata": {},
     "output_type": "execute_result"
    }
   ],
   "source": [
    "F = 'adgh456@'\n",
    "F.isalnum()"
   ]
  },
  {
   "cell_type": "markdown",
   "id": "8be6473d",
   "metadata": {},
   "source": [
    "# List:- It takes multiple comma separated datatype in a square bracket.\n",
    "1.indexing & slicing\n",
    "2.it is mutable \n"
   ]
  },
  {
   "cell_type": "code",
   "execution_count": 34,
   "id": "dea4a2dc",
   "metadata": {},
   "outputs": [],
   "source": [
    "h = [1,2,\"afgt\",[1,2,3],89]"
   ]
  },
  {
   "cell_type": "code",
   "execution_count": 35,
   "id": "5d546fff",
   "metadata": {},
   "outputs": [
    {
     "data": {
      "text/plain": [
       "list"
      ]
     },
     "execution_count": 35,
     "metadata": {},
     "output_type": "execute_result"
    }
   ],
   "source": [
    "type(h)"
   ]
  },
  {
   "cell_type": "code",
   "execution_count": 36,
   "id": "e566d769",
   "metadata": {},
   "outputs": [],
   "source": [
    "h[2]=25"
   ]
  },
  {
   "cell_type": "code",
   "execution_count": 37,
   "id": "2a58946c",
   "metadata": {},
   "outputs": [
    {
     "data": {
      "text/plain": [
       "[1, 2, 25, [1, 2, 3], 89]"
      ]
     },
     "execution_count": 37,
     "metadata": {},
     "output_type": "execute_result"
    }
   ],
   "source": [
    "h"
   ]
  },
  {
   "cell_type": "code",
   "execution_count": 38,
   "id": "b8ace4e8",
   "metadata": {},
   "outputs": [
    {
     "name": "stdout",
     "output_type": "stream",
     "text": [
      "[1, 2, 4, 5, 'apple', 25]\n"
     ]
    }
   ],
   "source": [
    "g = [1,2,4,5,\"apple\"]\n",
    "g.append(25)\n",
    "print(g)\n"
   ]
  },
  {
   "cell_type": "code",
   "execution_count": 39,
   "id": "54a190cb",
   "metadata": {},
   "outputs": [
    {
     "name": "stdout",
     "output_type": "stream",
     "text": [
      "[1, 2, 4, 'cat', 5, 'apple', 25]\n"
     ]
    }
   ],
   "source": [
    "g.insert(3,\"cat\")\n",
    "print(g)"
   ]
  },
  {
   "cell_type": "code",
   "execution_count": 40,
   "id": "40b1f138",
   "metadata": {},
   "outputs": [
    {
     "data": {
      "text/plain": [
       "[1, 2, 4, 5, 'apple', 100, 101, 102, 103]"
      ]
     },
     "execution_count": 40,
     "metadata": {},
     "output_type": "execute_result"
    }
   ],
   "source": [
    "g = [1,2,4,5,\"apple\"]\n",
    "h = [100,101,102,103]\n",
    "g.extend(h)\n",
    "g\n"
   ]
  },
  {
   "cell_type": "code",
   "execution_count": 41,
   "id": "407ee244",
   "metadata": {},
   "outputs": [
    {
     "data": {
      "text/plain": [
       "[100, 101, 102, 103, 1, 2, 4, 5, 'apple']"
      ]
     },
     "execution_count": 41,
     "metadata": {},
     "output_type": "execute_result"
    }
   ],
   "source": [
    "g = [1,2,4,5,\"apple\"]\n",
    "h = [100,101,102,103]\n",
    "h.extend(g)\n",
    "h"
   ]
  },
  {
   "cell_type": "code",
   "execution_count": 43,
   "id": "381942af",
   "metadata": {},
   "outputs": [
    {
     "data": {
      "text/plain": [
       "4"
      ]
     },
     "execution_count": 43,
     "metadata": {},
     "output_type": "execute_result"
    }
   ],
   "source": [
    "g = [1,2,4,5,\"apple\"]\n",
    "g.pop(2)"
   ]
  },
  {
   "cell_type": "code",
   "execution_count": 44,
   "id": "d763c1b5",
   "metadata": {},
   "outputs": [
    {
     "data": {
      "text/plain": [
       "[1, 4, 5, 'apple']"
      ]
     },
     "execution_count": 44,
     "metadata": {},
     "output_type": "execute_result"
    }
   ],
   "source": [
    "g = [1,2,4,5,\"apple\"]\n",
    "g.remove(2)\n",
    "g"
   ]
  },
  {
   "cell_type": "code",
   "execution_count": 47,
   "id": "cd8ce764",
   "metadata": {},
   "outputs": [
    {
     "data": {
      "text/plain": [
       "[4, 'apple', 5, 4, 1]"
      ]
     },
     "execution_count": 47,
     "metadata": {},
     "output_type": "execute_result"
    }
   ],
   "source": [
    "g= [1,4,5,'apple',4]\n",
    "g.reverse()\n",
    "g"
   ]
  },
  {
   "cell_type": "code",
   "execution_count": 49,
   "id": "f805bdcd",
   "metadata": {},
   "outputs": [
    {
     "data": {
      "text/plain": [
       "2"
      ]
     },
     "execution_count": 49,
     "metadata": {},
     "output_type": "execute_result"
    }
   ],
   "source": [
    "g.count(4)"
   ]
  },
  {
   "cell_type": "code",
   "execution_count": 51,
   "id": "59bf2aba",
   "metadata": {},
   "outputs": [
    {
     "data": {
      "text/plain": [
       "1"
      ]
     },
     "execution_count": 51,
     "metadata": {},
     "output_type": "execute_result"
    }
   ],
   "source": [
    "g=[1,2,5,2]\n",
    "g.index(2)"
   ]
  },
  {
   "cell_type": "code",
   "execution_count": 53,
   "id": "c6cd9ca0",
   "metadata": {},
   "outputs": [
    {
     "data": {
      "text/plain": [
       "[1, 2, 2, 5]"
      ]
     },
     "execution_count": 53,
     "metadata": {},
     "output_type": "execute_result"
    }
   ],
   "source": [
    "g.sort()\n",
    "g"
   ]
  },
  {
   "cell_type": "code",
   "execution_count": 54,
   "id": "d06fce68",
   "metadata": {},
   "outputs": [
    {
     "data": {
      "text/plain": [
       "['Cat', 'apple', 'banana', 'dog']"
      ]
     },
     "execution_count": 54,
     "metadata": {},
     "output_type": "execute_result"
    }
   ],
   "source": [
    "h = [\"banana\",'dog','Cat',\"apple\"]\n",
    "h.sort()\n",
    "h\n"
   ]
  },
  {
   "cell_type": "code",
   "execution_count": 55,
   "id": "8315572e",
   "metadata": {},
   "outputs": [
    {
     "data": {
      "text/plain": [
       "['dog', 'banana', 'apple', 'Cat']"
      ]
     },
     "execution_count": 55,
     "metadata": {},
     "output_type": "execute_result"
    }
   ],
   "source": [
    "h = [\"banana\",'dog','Cat',\"apple\"]\n",
    "h.sort(reverse = True)\n",
    "h\n"
   ]
  },
  {
   "cell_type": "markdown",
   "id": "976ce1d3",
   "metadata": {},
   "source": [
    "# Tuple:-\n",
    "A tuple is also a sequence assigned in a (),A\n",
    "tuple permanent(immutable),item separated by\n",
    "comma.\n"
   ]
  },
  {
   "cell_type": "code",
   "execution_count": 57,
   "id": "f2f020cc",
   "metadata": {},
   "outputs": [
    {
     "data": {
      "text/plain": [
       "tuple"
      ]
     },
     "execution_count": 57,
     "metadata": {},
     "output_type": "execute_result"
    }
   ],
   "source": [
    "t = (1,2,3)\n",
    "type(t)"
   ]
  },
  {
   "cell_type": "markdown",
   "id": "2d88df7b",
   "metadata": {},
   "source": [
    "# Set:- it is a collection of unique items in side a {},seprated by comma.\n",
    "1.it can't takes duplicate value.\n",
    "2.unorded\n"
   ]
  },
  {
   "cell_type": "code",
   "execution_count": 58,
   "id": "9e0feb28",
   "metadata": {},
   "outputs": [],
   "source": [
    "A = {1,2,3,4,5,6,7,8,9}\n",
    "B = {2,4,6,8,10,12,14,16,18}\n",
    "C = {14,12,16}\n",
    "D = {'a','b','c'}"
   ]
  },
  {
   "cell_type": "code",
   "execution_count": 59,
   "id": "dd105000",
   "metadata": {},
   "outputs": [
    {
     "data": {
      "text/plain": [
       "{1, 2, 3, 4, 5, 6, 7, 8, 9, 10, 12, 14, 16, 18}"
      ]
     },
     "execution_count": 59,
     "metadata": {},
     "output_type": "execute_result"
    }
   ],
   "source": [
    "A.union(B)"
   ]
  },
  {
   "cell_type": "code",
   "execution_count": 60,
   "id": "93668d6f",
   "metadata": {},
   "outputs": [
    {
     "data": {
      "text/plain": [
       "{2, 4, 6, 8}"
      ]
     },
     "execution_count": 60,
     "metadata": {},
     "output_type": "execute_result"
    }
   ],
   "source": [
    "A.intersection(B)"
   ]
  },
  {
   "cell_type": "code",
   "execution_count": 61,
   "id": "aaa44baa",
   "metadata": {},
   "outputs": [
    {
     "data": {
      "text/plain": [
       "{1, 3, 5, 7, 9}"
      ]
     },
     "execution_count": 61,
     "metadata": {},
     "output_type": "execute_result"
    }
   ],
   "source": [
    "A.difference(B)"
   ]
  },
  {
   "cell_type": "code",
   "execution_count": 63,
   "id": "799e041c",
   "metadata": {},
   "outputs": [
    {
     "data": {
      "text/plain": [
       "True"
      ]
     },
     "execution_count": 63,
     "metadata": {},
     "output_type": "execute_result"
    }
   ],
   "source": [
    "B.issuperset(C)"
   ]
  },
  {
   "cell_type": "code",
   "execution_count": 64,
   "id": "8d948efb",
   "metadata": {},
   "outputs": [
    {
     "data": {
      "text/plain": [
       "True"
      ]
     },
     "execution_count": 64,
     "metadata": {},
     "output_type": "execute_result"
    }
   ],
   "source": [
    "C.issubset(B)"
   ]
  },
  {
   "cell_type": "code",
   "execution_count": 65,
   "id": "883ac88c",
   "metadata": {},
   "outputs": [
    {
     "data": {
      "text/plain": [
       "True"
      ]
     },
     "execution_count": 65,
     "metadata": {},
     "output_type": "execute_result"
    }
   ],
   "source": [
    "A.isdisjoint(D)"
   ]
  },
  {
   "cell_type": "markdown",
   "id": "a74648f4",
   "metadata": {},
   "source": [
    "# Dictionary:-\n",
    "It consists of key:value pairs inside a {}."
   ]
  },
  {
   "cell_type": "code",
   "execution_count": 66,
   "id": "58f374bc",
   "metadata": {},
   "outputs": [],
   "source": [
    "d = {\"a\":12,\"b\":'cat',\"c\":3+7j}"
   ]
  },
  {
   "cell_type": "code",
   "execution_count": 67,
   "id": "86371922",
   "metadata": {},
   "outputs": [
    {
     "data": {
      "text/plain": [
       "dict"
      ]
     },
     "execution_count": 67,
     "metadata": {},
     "output_type": "execute_result"
    }
   ],
   "source": [
    "type(d)"
   ]
  },
  {
   "cell_type": "code",
   "execution_count": 69,
   "id": "955c835d",
   "metadata": {},
   "outputs": [
    {
     "data": {
      "text/plain": [
       "{'a': 12, 'b': 'dog', 'c': (3+7j)}"
      ]
     },
     "execution_count": 69,
     "metadata": {},
     "output_type": "execute_result"
    }
   ],
   "source": [
    "d[\"b\"]='dog'\n",
    "d"
   ]
  },
  {
   "cell_type": "code",
   "execution_count": 70,
   "id": "24913420",
   "metadata": {},
   "outputs": [
    {
     "data": {
      "text/plain": [
       "dict_keys(['a', 'b', 'c'])"
      ]
     },
     "execution_count": 70,
     "metadata": {},
     "output_type": "execute_result"
    }
   ],
   "source": [
    "d.keys()"
   ]
  },
  {
   "cell_type": "code",
   "execution_count": 71,
   "id": "2b57fad9",
   "metadata": {},
   "outputs": [
    {
     "data": {
      "text/plain": [
       "dict_values([12, 'dog', (3+7j)])"
      ]
     },
     "execution_count": 71,
     "metadata": {},
     "output_type": "execute_result"
    }
   ],
   "source": [
    "d.values()\n"
   ]
  },
  {
   "cell_type": "code",
   "execution_count": 72,
   "id": "bf578a7d",
   "metadata": {},
   "outputs": [
    {
     "name": "stdout",
     "output_type": "stream",
     "text": [
      "Enter your name:- Naina Sahu\n"
     ]
    }
   ],
   "source": [
    "n = input(\"Enter your name:- \")"
   ]
  },
  {
   "cell_type": "code",
   "execution_count": 73,
   "id": "0719625d",
   "metadata": {},
   "outputs": [
    {
     "data": {
      "text/plain": [
       "str"
      ]
     },
     "execution_count": 73,
     "metadata": {},
     "output_type": "execute_result"
    }
   ],
   "source": [
    "type(n)"
   ]
  },
  {
   "cell_type": "code",
   "execution_count": 2,
   "id": "32cd38b6",
   "metadata": {},
   "outputs": [
    {
     "name": "stdout",
     "output_type": "stream",
     "text": [
      "Enter any number:- 9\n"
     ]
    }
   ],
   "source": [
    "m = int(input(\"Enter any number:- \"))"
   ]
  },
  {
   "cell_type": "code",
   "execution_count": 3,
   "id": "8c4cfdb5",
   "metadata": {},
   "outputs": [
    {
     "data": {
      "text/plain": [
       "int"
      ]
     },
     "execution_count": 3,
     "metadata": {},
     "output_type": "execute_result"
    }
   ],
   "source": [
    "type(m)"
   ]
  },
  {
   "cell_type": "markdown",
   "id": "4ba51a1c",
   "metadata": {},
   "source": [
    "# String Formating:-\n",
    "Insert a variable in a string."
   ]
  },
  {
   "cell_type": "code",
   "execution_count": 4,
   "id": "5748d09c",
   "metadata": {},
   "outputs": [
    {
     "name": "stdout",
     "output_type": "stream",
     "text": [
      "Aditi Kumari is a good girl\n"
     ]
    }
   ],
   "source": [
    "name = \"Aditi Kumari\"\n",
    "print(\"{} is a good girl\".format(name))"
   ]
  },
  {
   "cell_type": "code",
   "execution_count": 6,
   "id": "6559e6b3",
   "metadata": {},
   "outputs": [
    {
     "data": {
      "text/plain": [
       "'wo stree hai,kuchh bhi kar sakti hai'"
      ]
     },
     "execution_count": 6,
     "metadata": {},
     "output_type": "execute_result"
    }
   ],
   "source": [
    "v1 = \"stree\"\n",
    "v2 = \"kuchh\"\n",
    "\"wo {0} hai,{1} bhi kar sakti hai\".format(v1,v2)"
   ]
  },
  {
   "cell_type": "code",
   "execution_count": 7,
   "id": "8f8fc878",
   "metadata": {},
   "outputs": [
    {
     "name": "stdout",
     "output_type": "stream",
     "text": [
      "name of roll no 12 is aditi\n"
     ]
    }
   ],
   "source": [
    "r = 12\n",
    "na = \"aditi\"\n",
    "print(f'name of roll no {r} is {na}')"
   ]
  },
  {
   "cell_type": "code",
   "execution_count": null,
   "id": "71e9d84e",
   "metadata": {},
   "outputs": [],
   "source": []
  }
 ],
 "metadata": {
  "kernelspec": {
   "display_name": "Python 3 (ipykernel)",
   "language": "python",
   "name": "python3"
  },
  "language_info": {
   "codemirror_mode": {
    "name": "ipython",
    "version": 3
   },
   "file_extension": ".py",
   "mimetype": "text/x-python",
   "name": "python",
   "nbconvert_exporter": "python",
   "pygments_lexer": "ipython3",
   "version": "3.10.9"
  }
 },
 "nbformat": 4,
 "nbformat_minor": 5
}
